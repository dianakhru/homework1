{
 "cells": [
  {
   "cell_type": "code",
   "execution_count": 1,
   "id": "abdb363f-4681-46ad-8997-30d8b088c60b",
   "metadata": {},
   "outputs": [
    {
     "name": "stdout",
     "output_type": "stream",
     "text": [
      "Результат работы Pupa: [5, 7, 9]\n",
      "Результат работы Lupa: [-3, -3, -3]\n",
      "К зарплате Pupa добавлено: 4020\n",
      "К зарплате Lupa добавлено: 3160\n",
      "Pupa's total salary: 4020\n",
      "Lupa's total salary: 3160\n"
     ]
    }
   ],
   "source": [
    "class Pupa:\n",
    "    def __init__(self):\n",
    "        self.salary = 0\n",
    "\n",
    "    def take_salary(self, amount):\n",
    "        self.salary += amount\n",
    "\n",
    "    def do_work(self, spisok1, spisok2):\n",
    "        result = [a + b for a, b in zip(spisok1, spisok2)]\n",
    "        print(f\"Результат работы Pupa: {result}\")\n",
    "\n",
    "\n",
    "class Lupa:\n",
    "    def __init__(self):\n",
    "        self.salary = 0\n",
    "\n",
    "    def take_salary(self, amount):\n",
    "        self.salary += amount\n",
    "\n",
    "    def do_work(self, spisok1, spisok2):\n",
    "        result = [a - b for a, b in zip(spisok1, spisok2)]\n",
    "        print(f\"Результат работы Lupa: {result}\")\n",
    "\n",
    "\n",
    "class Accountant:\n",
    "    def give_salary(self, worker):\n",
    "        \n",
    "        import random\n",
    "        amount = random.randint(1000, 5000)  # Пример случайной суммы ЗП\n",
    "\n",
    "        if isinstance(worker, (Pupa, Lupa)):\n",
    "            worker.take_salary(amount)\n",
    "            print(f\"К зарплате {type(worker).__name__} добавлено: {amount}\")\n",
    "        else:\n",
    "            print(\"Неверный сотрудник\")\n",
    "\n",
    "\n",
    "# Пример:\n",
    "pupa_worker = Pupa()\n",
    "lupa_worker = Lupa()\n",
    "\n",
    "pupa_worker.do_work([1, 2, 3], [4, 5, 6])\n",
    "lupa_worker.do_work([7, 8, 9], [10, 11, 12])\n",
    "\n",
    "accountant = Accountant()\n",
    "accountant.give_salary(pupa_worker)\n",
    "accountant.give_salary(lupa_worker)\n",
    "\n",
    "print(f\"Всего выплачено Pupa: {pupa_worker.salary}\")\n",
    "print(f\"Всего выплачено Lupa: {lupa_worker.salary}\")"
   ]
  },
  {
   "cell_type": "code",
   "execution_count": null,
   "id": "80ccc412-f90f-4efe-9606-a05709892217",
   "metadata": {},
   "outputs": [],
   "source": []
  }
 ],
 "metadata": {
  "kernelspec": {
   "display_name": "Python 3 (ipykernel)",
   "language": "python",
   "name": "python3"
  },
  "language_info": {
   "codemirror_mode": {
    "name": "ipython",
    "version": 3
   },
   "file_extension": ".py",
   "mimetype": "text/x-python",
   "name": "python",
   "nbconvert_exporter": "python",
   "pygments_lexer": "ipython3",
   "version": "3.12.0"
  }
 },
 "nbformat": 4,
 "nbformat_minor": 5
}
